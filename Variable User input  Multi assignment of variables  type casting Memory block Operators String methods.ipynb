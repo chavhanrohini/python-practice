{
 "cells": [
  {
   "cell_type": "markdown",
   "id": "ce91a287",
   "metadata": {},
   "source": [
    "# AGENDA\n",
    " \n",
    "Variable Case senstivity\n",
    "\n",
    "Reserved words in Python\n",
    "\n",
    "Multi assignment of variables \n",
    "\n",
    "User input\n",
    "\n",
    "type casting | type conversion \n",
    "\n",
    "Memory block\n",
    "\n",
    "Operators\n",
    "\n",
    "Logical\n",
    "Equality\n",
    "Comparision\n",
    "Arthimatic\n",
    "Bitwise \n",
    "Operators for sets and dictionary\n",
    "String methods"
   ]
  },
  {
   "cell_type": "markdown",
   "id": "9d89156b",
   "metadata": {},
   "source": [
    "#### Variable Case senstivity\n"
   ]
  },
  {
   "cell_type": "code",
   "execution_count": null,
   "id": "f11e53ba",
   "metadata": {},
   "outputs": [],
   "source": [
    "TEN= 10\n",
    "ten =20\n",
    "#TEN and ten both are different in terms of lowercase and uppercase letter"
   ]
  },
  {
   "cell_type": "code",
   "execution_count": 4,
   "id": "49a36842",
   "metadata": {},
   "outputs": [
    {
     "name": "stdout",
     "output_type": "stream",
     "text": [
      "10\n"
     ]
    }
   ],
   "source": [
    "print(TEN)"
   ]
  },
  {
   "cell_type": "code",
   "execution_count": 5,
   "id": "6ad36ed9",
   "metadata": {},
   "outputs": [
    {
     "name": "stdout",
     "output_type": "stream",
     "text": [
      "20\n"
     ]
    }
   ],
   "source": [
    "print(ten)"
   ]
  },
  {
   "cell_type": "markdown",
   "id": "b00f4367",
   "metadata": {},
   "source": [
    "#### Reserved words in Python\n",
    "\n",
    "#and       del       from      not       while    \n",
    "#as        elif      global    or        with     \n",
    "#assert    else      if        pass      yield    \n",
    "#break     except    import    print              \n",
    "#class     exec      in        raise              \n",
    "#continue  finally   is        return             \n",
    "#def       for       lambda    try"
   ]
  },
  {
   "cell_type": "code",
   "execution_count": null,
   "id": "fde2c137",
   "metadata": {},
   "outputs": [],
   "source": [
    "# 1. We should not use reserved words as variable names\n",
    "# 2. Also python doesn't restrict the user to use reserved keywords as variable names"
   ]
  },
  {
   "cell_type": "code",
   "execution_count": 12,
   "id": "b429ec3c",
   "metadata": {},
   "outputs": [
    {
     "data": {
      "text/plain": [
       "str"
      ]
     },
     "execution_count": 12,
     "metadata": {},
     "output_type": "execute_result"
    }
   ],
   "source": [
    "print= \"rohini\" # as variable\n",
    "type(print)"
   ]
  },
  {
   "cell_type": "markdown",
   "id": "68a42147",
   "metadata": {},
   "source": [
    "#### Multi assignment of variables"
   ]
  },
  {
   "cell_type": "code",
   "execution_count": 3,
   "id": "92eb011b",
   "metadata": {},
   "outputs": [],
   "source": [
    "a, b, c, yes = 10, 20.2, \"rohini\", True"
   ]
  },
  {
   "cell_type": "code",
   "execution_count": 4,
   "id": "bdb3ebe4",
   "metadata": {},
   "outputs": [
    {
     "data": {
      "text/plain": [
       "int"
      ]
     },
     "execution_count": 4,
     "metadata": {},
     "output_type": "execute_result"
    }
   ],
   "source": [
    "type(a)"
   ]
  },
  {
   "cell_type": "code",
   "execution_count": 5,
   "id": "26421de4",
   "metadata": {},
   "outputs": [
    {
     "data": {
      "text/plain": [
       "float"
      ]
     },
     "execution_count": 5,
     "metadata": {},
     "output_type": "execute_result"
    }
   ],
   "source": [
    "type(b)"
   ]
  },
  {
   "cell_type": "code",
   "execution_count": 6,
   "id": "e9a3cee0",
   "metadata": {},
   "outputs": [
    {
     "data": {
      "text/plain": [
       "str"
      ]
     },
     "execution_count": 6,
     "metadata": {},
     "output_type": "execute_result"
    }
   ],
   "source": [
    "type(c)"
   ]
  },
  {
   "cell_type": "code",
   "execution_count": 7,
   "id": "11772fe6",
   "metadata": {},
   "outputs": [
    {
     "data": {
      "text/plain": [
       "bool"
      ]
     },
     "execution_count": 7,
     "metadata": {},
     "output_type": "execute_result"
    }
   ],
   "source": [
    "type(yes)"
   ]
  },
  {
   "cell_type": "code",
   "execution_count": 8,
   "id": "f1f8194d",
   "metadata": {},
   "outputs": [
    {
     "name": "stdout",
     "output_type": "stream",
     "text": [
      "<class 'int'>\n",
      "<class 'float'>\n",
      "<class 'str'>\n",
      "<class 'bool'>\n"
     ]
    }
   ],
   "source": [
    "print(type(a))\n",
    "print(type(b))\n",
    "print(type(c))\n",
    "print(type(yes))"
   ]
  },
  {
   "cell_type": "code",
   "execution_count": 10,
   "id": "5fbff00c",
   "metadata": {},
   "outputs": [],
   "source": [
    "a=b=c=10"
   ]
  },
  {
   "cell_type": "code",
   "execution_count": 11,
   "id": "63750197",
   "metadata": {},
   "outputs": [
    {
     "data": {
      "text/plain": [
       "(10, 10, 10)"
      ]
     },
     "execution_count": 11,
     "metadata": {},
     "output_type": "execute_result"
    }
   ],
   "source": [
    "a,b,c"
   ]
  },
  {
   "cell_type": "code",
   "execution_count": 12,
   "id": "584f526b",
   "metadata": {},
   "outputs": [],
   "source": [
    "firstName, middleName, sirName = \"Rohini\", \"Subhash\", \"Chavhan\""
   ]
  },
  {
   "cell_type": "code",
   "execution_count": 15,
   "id": "aa6fbfec",
   "metadata": {},
   "outputs": [
    {
     "name": "stdout",
     "output_type": "stream",
     "text": [
      "Rohini.Chavhan@gmail.com\n"
     ]
    }
   ],
   "source": [
    "print(f\"{firstName}.{sirName}@gmail.com\")"
   ]
  },
  {
   "cell_type": "code",
   "execution_count": 16,
   "id": "ba810cd4",
   "metadata": {},
   "outputs": [],
   "source": [
    "name, place, year_of_birth = \"Rohini\", \"Pune\", 1995 "
   ]
  },
  {
   "cell_type": "code",
   "execution_count": 17,
   "id": "5be1ba8c",
   "metadata": {},
   "outputs": [
    {
     "name": "stdout",
     "output_type": "stream",
     "text": [
      "\n",
      "My name is :Rohini\n",
      "i live at :Pune\n",
      "i was born in :1995\n",
      "\n"
     ]
    }
   ],
   "source": [
    "print(f\"\"\"\n",
    "My name is :{name}\n",
    "i live at :{place}\n",
    "i was born in :{year_of_birth}\n",
    "\"\"\")"
   ]
  },
  {
   "cell_type": "markdown",
   "id": "ae69e205",
   "metadata": {},
   "source": [
    "#### User input"
   ]
  },
  {
   "cell_type": "code",
   "execution_count": 18,
   "id": "bd7dc228",
   "metadata": {},
   "outputs": [
    {
     "name": "stdout",
     "output_type": "stream",
     "text": [
      "Enter your Name: Rohini\n",
      "You have entered: Rohini\n"
     ]
    }
   ],
   "source": [
    "name = input(\"Enter your Name: \")\n",
    "\n",
    "print(f\"You have entered: {name}\")"
   ]
  },
  {
   "cell_type": "code",
   "execution_count": 20,
   "id": "70b61d9d",
   "metadata": {},
   "outputs": [
    {
     "name": "stdout",
     "output_type": "stream",
     "text": [
      "Enter the value of A: 10\n",
      "Enter the value of B: 20\n",
      "sum of A and B is : 1020\n"
     ]
    }
   ],
   "source": [
    "A= input(\"Enter the value of A: \")\n",
    "B= input(\"Enter the value of B: \")\n",
    "print(f\"sum of A and B is : {A+B}\")"
   ]
  },
  {
   "cell_type": "code",
   "execution_count": 2,
   "id": "7a6746cf",
   "metadata": {},
   "outputs": [
    {
     "name": "stdout",
     "output_type": "stream",
     "text": [
      "Name: Rohini\n",
      "place: Pune\n",
      "year_of_birth: 1995\n"
     ]
    }
   ],
   "source": [
    "name= input(\"Name: \")\n",
    "place= input(\"place: \")\n",
    "year_of_birth=input(\"year_of_birth: \")"
   ]
  },
  {
   "cell_type": "code",
   "execution_count": 4,
   "id": "ca6590ae",
   "metadata": {},
   "outputs": [
    {
     "name": "stdout",
     "output_type": "stream",
     "text": [
      "Name: Rohini\n",
      "Place: Pune\n",
      "year_of_birth: 1995\n",
      "\n",
      "My name is :Rohini\n",
      "i live at: Pune\n",
      "Rohini is of age : 28\n",
      "\n"
     ]
    }
   ],
   "source": [
    "## calcualte the age of the user\n",
    "name= input(\"Name: \")  #always gives you string values\n",
    "place=input(\"Place: \")\n",
    "year_of_birth= int(input(\"year_of_birth: \"))  #convert this into integer\n",
    "\n",
    "age= 2023-year_of_birth\n",
    "\n",
    "print(f\"\"\"\n",
    "My name is :{name}\n",
    "i live at: {place}\n",
    "{name} is of age : {age}\n",
    "\"\"\")"
   ]
  },
  {
   "cell_type": "markdown",
   "id": "56d4aca2",
   "metadata": {},
   "source": [
    "#### Type conversion"
   ]
  },
  {
   "cell_type": "code",
   "execution_count": 5,
   "id": "db2df824",
   "metadata": {},
   "outputs": [
    {
     "name": "stdout",
     "output_type": "stream",
     "text": [
      "Enter the value of A: 10\n",
      "Enter the value of B: 20\n",
      "sum of A and B is : 30\n"
     ]
    }
   ],
   "source": [
    "A= int(input(\"Enter the value of A: \"))\n",
    "B= int(input(\"Enter the value of B: \"))\n",
    "print(f\"sum of A and B is : {A+B}\")"
   ]
  },
  {
   "cell_type": "code",
   "execution_count": 6,
   "id": "41a5dc73",
   "metadata": {},
   "outputs": [
    {
     "data": {
      "text/plain": [
       "str"
      ]
     },
     "execution_count": 6,
     "metadata": {},
     "output_type": "execute_result"
    }
   ],
   "source": [
    "# String to integer\n",
    "a= \"50\"\n",
    "type(a)"
   ]
  },
  {
   "cell_type": "code",
   "execution_count": 7,
   "id": "e70b98fc",
   "metadata": {},
   "outputs": [],
   "source": [
    "a=int(a)"
   ]
  },
  {
   "cell_type": "code",
   "execution_count": 8,
   "id": "eb14b81d",
   "metadata": {},
   "outputs": [
    {
     "data": {
      "text/plain": [
       "50"
      ]
     },
     "execution_count": 8,
     "metadata": {},
     "output_type": "execute_result"
    }
   ],
   "source": [
    "a"
   ]
  },
  {
   "cell_type": "code",
   "execution_count": 9,
   "id": "f074f1bf",
   "metadata": {},
   "outputs": [
    {
     "data": {
      "text/plain": [
       "int"
      ]
     },
     "execution_count": 9,
     "metadata": {},
     "output_type": "execute_result"
    }
   ],
   "source": [
    "type(a)"
   ]
  },
  {
   "cell_type": "code",
   "execution_count": 10,
   "id": "dc365727",
   "metadata": {},
   "outputs": [
    {
     "data": {
      "text/plain": [
       "float"
      ]
     },
     "execution_count": 10,
     "metadata": {},
     "output_type": "execute_result"
    }
   ],
   "source": [
    "# float to integer\n",
    "b= 20.3\n",
    "type(b)"
   ]
  },
  {
   "cell_type": "code",
   "execution_count": 11,
   "id": "2a85bb20",
   "metadata": {},
   "outputs": [],
   "source": [
    "b=int(b)"
   ]
  },
  {
   "cell_type": "code",
   "execution_count": 12,
   "id": "31adba6b",
   "metadata": {},
   "outputs": [
    {
     "data": {
      "text/plain": [
       "20"
      ]
     },
     "execution_count": 12,
     "metadata": {},
     "output_type": "execute_result"
    }
   ],
   "source": [
    "b"
   ]
  },
  {
   "cell_type": "code",
   "execution_count": 13,
   "id": "b405e8b6",
   "metadata": {},
   "outputs": [
    {
     "data": {
      "text/plain": [
       "int"
      ]
     },
     "execution_count": 13,
     "metadata": {},
     "output_type": "execute_result"
    }
   ],
   "source": [
    "type(b)"
   ]
  },
  {
   "cell_type": "code",
   "execution_count": 15,
   "id": "83126e6a",
   "metadata": {},
   "outputs": [
    {
     "data": {
      "text/plain": [
       "int"
      ]
     },
     "execution_count": 15,
     "metadata": {},
     "output_type": "execute_result"
    }
   ],
   "source": [
    "# integer to float\n",
    "c= 50\n",
    "type(c)"
   ]
  },
  {
   "cell_type": "code",
   "execution_count": 16,
   "id": "c5d4c237",
   "metadata": {},
   "outputs": [],
   "source": [
    "c=float(c)"
   ]
  },
  {
   "cell_type": "code",
   "execution_count": 17,
   "id": "57598182",
   "metadata": {},
   "outputs": [
    {
     "data": {
      "text/plain": [
       "50.0"
      ]
     },
     "execution_count": 17,
     "metadata": {},
     "output_type": "execute_result"
    }
   ],
   "source": [
    "c"
   ]
  },
  {
   "cell_type": "code",
   "execution_count": 18,
   "id": "69418034",
   "metadata": {},
   "outputs": [
    {
     "data": {
      "text/plain": [
       "float"
      ]
     },
     "execution_count": 18,
     "metadata": {},
     "output_type": "execute_result"
    }
   ],
   "source": [
    "type(c)"
   ]
  },
  {
   "cell_type": "code",
   "execution_count": 19,
   "id": "6b227b62",
   "metadata": {},
   "outputs": [
    {
     "name": "stdout",
     "output_type": "stream",
     "text": [
      "data type before: <class 'int'>, value of A: 10\n",
      "data type after: <class 'bool'>, value of A: True\n"
     ]
    }
   ],
   "source": [
    "# integer to boolean\n",
    "\n",
    "A = 10\n",
    "print(f\"data type before: {type(A)}, value of A: {A}\")\n",
    "A = bool(A)\n",
    "print(f\"data type after: {type(A)}, value of A: {A}\")"
   ]
  },
  {
   "cell_type": "code",
   "execution_count": null,
   "id": "ab023e0b",
   "metadata": {},
   "outputs": [],
   "source": [
    "# NOTE: Converting any non zero number and string values into boolean will give True as an answer\n",
    "\n",
    "# NOTE: Empty string \"\" will give False as an answer after converting from string to boolean"
   ]
  },
  {
   "cell_type": "code",
   "execution_count": 20,
   "id": "d3b8b653",
   "metadata": {},
   "outputs": [
    {
     "name": "stdout",
     "output_type": "stream",
     "text": [
      "data type before: <class 'int'>, value of A: 0\n",
      "data type after: <class 'bool'>, value of A: False\n"
     ]
    }
   ],
   "source": [
    "# integer to boolean\n",
    "A = 0\n",
    "print(f\"data type before: {type(A)}, value of A: {A}\")\n",
    "A = bool(A)\n",
    "print(f\"data type after: {type(A)}, value of A: {A}\")"
   ]
  },
  {
   "cell_type": "markdown",
   "id": "a541e555",
   "metadata": {},
   "source": [
    "#### Memory block"
   ]
  },
  {
   "cell_type": "code",
   "execution_count": 21,
   "id": "255f97cf",
   "metadata": {},
   "outputs": [],
   "source": [
    "a=20\n",
    "b=30\n",
    "c=40"
   ]
  },
  {
   "cell_type": "code",
   "execution_count": 22,
   "id": "b904042d",
   "metadata": {},
   "outputs": [
    {
     "data": {
      "text/plain": [
       "2151545269136"
      ]
     },
     "execution_count": 22,
     "metadata": {},
     "output_type": "execute_result"
    }
   ],
   "source": [
    "id(a) #memory address"
   ]
  },
  {
   "cell_type": "code",
   "execution_count": 29,
   "id": "ca705029",
   "metadata": {},
   "outputs": [
    {
     "data": {
      "text/plain": [
       "2151545270160"
      ]
     },
     "execution_count": 29,
     "metadata": {},
     "output_type": "execute_result"
    }
   ],
   "source": [
    "id(c)"
   ]
  },
  {
   "cell_type": "code",
   "execution_count": 30,
   "id": "b7862100",
   "metadata": {},
   "outputs": [
    {
     "data": {
      "text/plain": [
       "2151545269456"
      ]
     },
     "execution_count": 30,
     "metadata": {},
     "output_type": "execute_result"
    }
   ],
   "source": [
    "id(b)"
   ]
  },
  {
   "cell_type": "code",
   "execution_count": 31,
   "id": "77a0372d",
   "metadata": {},
   "outputs": [
    {
     "data": {
      "text/plain": [
       "2151545270160"
      ]
     },
     "execution_count": 31,
     "metadata": {},
     "output_type": "execute_result"
    }
   ],
   "source": [
    "id(c)"
   ]
  },
  {
   "cell_type": "code",
   "execution_count": 32,
   "id": "3971d63f",
   "metadata": {},
   "outputs": [],
   "source": [
    "c= 50+b"
   ]
  },
  {
   "cell_type": "code",
   "execution_count": 33,
   "id": "d35152dd",
   "metadata": {},
   "outputs": [
    {
     "data": {
      "text/plain": [
       "2151545459536"
      ]
     },
     "execution_count": 33,
     "metadata": {},
     "output_type": "execute_result"
    }
   ],
   "source": [
    "id(c)"
   ]
  },
  {
   "cell_type": "code",
   "execution_count": 34,
   "id": "598ca8a7",
   "metadata": {},
   "outputs": [],
   "source": [
    "x=int(2151545269456)\n",
    "y=int(50)\n",
    "z=x+y"
   ]
  },
  {
   "cell_type": "code",
   "execution_count": 35,
   "id": "70f31519",
   "metadata": {},
   "outputs": [
    {
     "data": {
      "text/plain": [
       "2151545269506"
      ]
     },
     "execution_count": 35,
     "metadata": {},
     "output_type": "execute_result"
    }
   ],
   "source": [
    "z"
   ]
  },
  {
   "cell_type": "code",
   "execution_count": 36,
   "id": "e5b93393",
   "metadata": {},
   "outputs": [],
   "source": [
    "# Memory is assigned to the value of variable passed not the variable name"
   ]
  },
  {
   "cell_type": "code",
   "execution_count": null,
   "id": "753f474a",
   "metadata": {},
   "outputs": [],
   "source": []
  },
  {
   "cell_type": "code",
   "execution_count": null,
   "id": "72ac44a8",
   "metadata": {},
   "outputs": [],
   "source": []
  },
  {
   "cell_type": "code",
   "execution_count": null,
   "id": "762a1b5e",
   "metadata": {},
   "outputs": [],
   "source": []
  },
  {
   "cell_type": "code",
   "execution_count": null,
   "id": "b303fb04",
   "metadata": {},
   "outputs": [],
   "source": []
  },
  {
   "cell_type": "code",
   "execution_count": null,
   "id": "44d98a08",
   "metadata": {},
   "outputs": [],
   "source": []
  },
  {
   "cell_type": "code",
   "execution_count": null,
   "id": "4cc10319",
   "metadata": {},
   "outputs": [],
   "source": []
  }
 ],
 "metadata": {
  "kernelspec": {
   "display_name": "Python 3 (ipykernel)",
   "language": "python",
   "name": "python3"
  },
  "language_info": {
   "codemirror_mode": {
    "name": "ipython",
    "version": 3
   },
   "file_extension": ".py",
   "mimetype": "text/x-python",
   "name": "python",
   "nbconvert_exporter": "python",
   "pygments_lexer": "ipython3",
   "version": "3.9.12"
  }
 },
 "nbformat": 4,
 "nbformat_minor": 5
}
